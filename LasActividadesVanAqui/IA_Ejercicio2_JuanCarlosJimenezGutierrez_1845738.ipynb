{
  "nbformat": 4,
  "nbformat_minor": 0,
  "metadata": {
    "colab": {
      "name": "IA_Ejercicio2_JuanCarlosJimenezGutierrez_1845738.ipynb",
      "provenance": [],
      "collapsed_sections": []
    },
    "kernelspec": {
      "name": "python3",
      "display_name": "Python 3"
    },
    "language_info": {
      "name": "python"
    }
  },
  "cells": [
    {
      "cell_type": "markdown",
      "metadata": {
        "id": "p-osBxWvFAu2"
      },
      "source": [
        "Actividad 3: Ejercicios Introducción Python, 2da parte\n",
        "Nombre:      Juan Carlos Jimenez Gutierrez\n",
        "Matricula:   1845738\n",
        "Hora Clase:  N4"
      ]
    },
    {
      "cell_type": "code",
      "metadata": {
        "id": "SNV6vMWpFX2T"
      },
      "source": [
        "\"\"\"\n",
        "1.1) Piensa en 7 comidas diferente que te gusten.\n",
        "Implementa un programa que pregunte por las 7 comidas,\n",
        "las almacene en una lista y que posteriermente imprima\n",
        "cada una de ellas utilizando uno de los ciclos comentados en clase.\n",
        "\"\"\"\n",
        "#CODIGO:\n",
        "a=\"Introduzca una de sus comidas favoritas:\" #El comentario se coloca como variable para no esribir muchas lineas de codigo\n",
        "l=[input(a),input(a),input(a),input(a),input(a),input(a),input(a)] #El programa le solicita al usuario sus comidas favoritas y las almacena en una lista\n",
        "for x in l: #Se asigna la variable x a cada valor en la lista\n",
        "  print (x) #Se imprime cada valor que toma x"
      ],
      "execution_count": null,
      "outputs": []
    },
    {
      "cell_type": "code",
      "metadata": {
        "id": "u2a58obmJC-O"
      },
      "source": [
        "\"\"\"\n",
        "1.2) Modifica el ejercicio 1.1 para que imprima cada una\n",
        "de las comidas favoritas junto con una oracición inicial:\n",
        "\"Una de mis comidas favoritas es [comida1]\".\n",
        "\"\"\"\n",
        "#CODIGO:\n",
        "a=\"Introduzca una de sus comidas favoritas:\" #El comentario se coloca como variable para no esribir muchas lineas de codigo\n",
        "b=\"Una de mis comidas favoritas es: \" #El comentario se coloca como variable para no esribir muchas lineas de codigo\n",
        "l=[input(a),input(a),input(a),input(a),input(a),input(a),input(a)] #El programa le solicita al usuario sus comidas favoritas y las almacena en una lista\n",
        "for x in l: #Se asigna la variable x a cada valor en la lista\n",
        "  print (b+x) #Se imprime el comentario b seguido de cada valor que toma x"
      ],
      "execution_count": null,
      "outputs": []
    },
    {
      "cell_type": "code",
      "metadata": {
        "id": "gWN1NsDeJDT9"
      },
      "source": [
        "\"\"\"\n",
        "2) Crear un juego de piedra, papel o tijera de dos jugadores.\n",
        "El programa preguntará por la opción del jugador 1 y la opción\n",
        "del jugador 2 y dará como resultado quien ganó el juego.\n",
        "\"\"\"\n",
        "#CODIGO:\n",
        "a=\"El jugador 1 ha GANADO\" #Se coloca la frase como variable para ahorrar lineas de codigo\n",
        "b=\"El jugador 2 ha GANADO\" #Se coloca la frase como variable para ahorrar lineas de codigo\n",
        "j1=input(\"Jugador 1 elija su opcion escribiendo 1 para piedra, 2 para papel o 3 para tijera:\") #Se introduce la eleccion del jugador 1\n",
        "j2=input(\"Jugador 2 elija su opcion escribiendo 1 para piedra, 2 para papel o 3 para tijera:\") #Se introduce la eleccion del jugador 2\n",
        "\n",
        "if j1==j2: #Se establecen las condiciones para el caso de empate\n",
        "  print(\"EMPATE\") #Se imprime el resultado para las condiciones donde ambos jugadores seleccionan lo mismo\n",
        "else : #Se establecen el resto de casos\n",
        "   if j1==\"1\" : #Se establece la condicion cuando el jugador 1 eligio piedra\n",
        "    if j2==\"2\": #Se establece que ocurre si el jugador 1 eligio piedra y el 2 tijera\n",
        "      print(b) #Se imprime el resultado\n",
        "    else : #Debido a que el jugador 2 no eligio tijera se deduce que escogio papel\n",
        "      print(a) #Se imprime el resultado\n",
        "   elif j1==\"2\": #Se establece la condicion cuando el jugador 1 eligio papel\n",
        "    if j2==\"1\": #Se establece la condicion cuando el jugador 1 eligio papel y el 2 piedra\n",
        "      print(a) #Se imprime el resultado\n",
        "    else : #Debido a que el jugador 2 no eligio piedra se deduce que escogio tijera\n",
        "      print(b) #Se imprime el resultado\n",
        "   elif j1==\"3\": #Se establece la condicion cuando el jugador 1 eligio tijera\n",
        "    if j2==\"1\": #Se establece la condicion cuando el jugador 1 eligio tijera y el 2 piedra\n",
        "      print(b) #Se imprime el resultado\n",
        "    else : #Debido a que el jugador 2 no eligio piedra se deduce que escogio papel\n",
        "      print(a) #Se imprime el resultado"
      ],
      "execution_count": null,
      "outputs": []
    },
    {
      "cell_type": "code",
      "metadata": {
        "id": "5d1jDrzmJetg"
      },
      "source": [
        "\"\"\"\n",
        "3) Implementar un programa que imprima el siguiente patron:\n",
        "123456\n",
        "12345\n",
        "1234\n",
        "123\n",
        "12\n",
        "1\n",
        "12\n",
        "123\n",
        "1234\n",
        "12345\n",
        "123456\n",
        "\"\"\"\n",
        "l=[1,2,3,4,5,6] #Se establecen todos los valores en la lista\n",
        "print(l) #Se imprimen todos los elementos de la lista\n",
        "print(l[0:5]) #Se imprimen los primeros 5 elementos de la lista\n",
        "print(l[0:4]) #Se imprimen los primeros 4 elementos de la lista\n",
        "print(l[0:3]) #Se imprimen los primeros 3 elementos de la lista\n",
        "print(l[0:2]) #Se imprimen los primeros 2 elementos de la lista\n",
        "print(l[0:1]) #Se imprime el primer elemnto de la lista\n",
        "print(l[0:2]) #Se imprimen los primeros 2 elementos de la lista\n",
        "print(l[0:3]) #Se imprimen los primeros 3 elementos de la lista\n",
        "print(l[0:4]) #Se imprimen los primeros 4 elementos de la lista\n",
        "print(l[0:5]) #Se imprimen los primeros 5 elementos de la lista\n",
        "print(l) #Se imprimen todos los elementos de la lista"
      ],
      "execution_count": null,
      "outputs": []
    }
  ]
}