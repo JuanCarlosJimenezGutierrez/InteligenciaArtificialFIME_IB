{
  "nbformat": 4,
  "nbformat_minor": 0,
  "metadata": {
    "colab": {
      "name": "IA_Ex1/2Curso_JuanCarlosJimenezGutierrez_1845738.ipynb",
      "provenance": []
    },
    "kernelspec": {
      "name": "python3",
      "display_name": "Python 3"
    },
    "language_info": {
      "name": "python"
    }
  },
  "cells": [
    {
      "cell_type": "markdown",
      "metadata": {
        "id": "tPfE58xqEZax"
      },
      "source": [
        "TITULO: Examen de MEDIO CURSO\n",
        "NOMBRE: Juan Carlos Jimenez Gutierrez\n",
        "MATRICULA: 1845738\n",
        "HORA CLASE: N4"
      ]
    },
    {
      "cell_type": "code",
      "metadata": {
        "id": "PTNOalh1Elot"
      },
      "source": [
        "\"\"\"\n",
        "1.) Desarrollar un programa que:\n",
        "    -Remueva los números pares de la lista:\n",
        "    ex_lista = [10, 15, 17, 21, 22, 34, 37, 40, 45, 52, 66, 68, 81, 84, 91, 94, 102, 105, 109]\n",
        "    -Imprima la lista después de remover los números pares.\n",
        "\"\"\"\n",
        "\n",
        "#CODIGO\n",
        "ex_lista = [10, 15, 17, 21, 22, 34, 37, 40, 45, 52, 66, 68, 81, 84, 91, 94, 102, 105, 109] \n",
        "lista = [i for i in ex_lista if i%2!=0]\n",
        "print(lista)"
      ],
      "execution_count": null,
      "outputs": []
    },
    {
      "cell_type": "code",
      "metadata": {
        "id": "Z38xPP4RExfO"
      },
      "source": [
        "\"\"\"\n",
        "2.) Desarrollar un programa que,\n",
        "    -Pregunte al usuario por sus 5 películas favoritas (dato tipo string),\n",
        "    empezando por la mas favorita y terminando en la posición 5 con la menos\n",
        "    favorita. \n",
        "    -Almacene estos datos en una lista. \n",
        "    -Por último, iterar sobre la lista generada para imprimir 5 oraciones\n",
        "    (1 con cada título de película) que digan: \"La película [TÍTULO DE PELÍCULA]\n",
        "    está en la posición [índice+1] de mi top 5\". \n",
        "      . TÍTULO DE PELÍCULA: corresponde a los nombres almacenados previamente en\n",
        "      su lista. \n",
        "      . Recordatorio: Índice es la posición de un elemento dentro de una lista.\n",
        "\"\"\"\n",
        "\n",
        "#CODIGO\n",
        "print(\"Se le pedira que introduzca 5 peliculas favoritas empezando por la mas preferida a la menos preferida\")\n",
        "p=[input(f'Introduzca su pelicula favorita no.{i+1}: ')for i in range(5)]\n",
        "for x in p:\n",
        "  print(f'La película {x} está en la posición {p.index(x)+1} de mi top 5')\n",
        "    "
      ],
      "execution_count": null,
      "outputs": []
    }
  ]
}