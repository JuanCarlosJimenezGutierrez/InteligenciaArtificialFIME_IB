{
  "nbformat": 4,
  "nbformat_minor": 0,
  "metadata": {
    "colab": {
      "name": "IA_Ejercicio1_JuanCarlosJimenezGutierrez_1845738.ipynb",
      "provenance": [],
      "authorship_tag": "ABX9TyOS5rPLvB/P+FmW1VMJEiiN",
      "include_colab_link": true
    },
    "kernelspec": {
      "name": "python3",
      "display_name": "Python 3"
    },
    "language_info": {
      "name": "python"
    }
  },
  "cells": [
    {
      "cell_type": "markdown",
      "metadata": {
        "id": "view-in-github",
        "colab_type": "text"
      },
      "source": [
        "<a href=\"https://colab.research.google.com/github/JuanCarlosJimenezGutierrez/InteligenciaArtificialFIME_IB/blob/main/IA_Ejercicio1_JuanCarlosJimenezGutierrez_1845738.ipynb\" target=\"_parent\"><img src=\"https://colab.research.google.com/assets/colab-badge.svg\" alt=\"Open In Colab\"/></a>"
      ]
    },
    {
      "cell_type": "markdown",
      "metadata": {
        "id": "-z2ohqnovou0"
      },
      "source": [
        "    TITULO: Activdad 1\n",
        "    NOMBRE: Juan Carlos Jimenez Gutierrez\n",
        "    MATRICULA: 1845738\n",
        "    HORA CLASE: N4"
      ]
    },
    {
      "cell_type": "code",
      "metadata": {
        "id": "sKLvJrkXvpXw"
      },
      "source": [
        "\"\"\"\n",
        "Ejercicio 1:\n",
        "Programa que pregunta nombre, edad, una frase favorita y autor de la frase favorita.\n",
        "El programa deberá de imprimir un mensaje compuesto por el nombre y edad del usuario\n",
        "diciendo que su frase favorita es la que dió anteriormente y el autor de dicha frase\n",
        "es el nombre previamente dado. Aquí habrá que realizar una concatenación de variables. \n",
        "\"\"\"\n",
        "\n",
        "#CODIGO:\n",
        "n=input(\"Introduzca su nombre:\")\n",
        "e=input(\"Introduzca su edad:\")\n",
        "fr=input(\"Introduzca su frase favorita:\")\n",
        "a=input(\"¿A quien pertenece dicha frase?\")\n",
        "x=\"La frase favorita de \"+n+\" con una edad de \"+e+\" es \"+fr+\" perteneciente a \"+a\n",
        "print(x);"
      ],
      "execution_count": null,
      "outputs": []
    },
    {
      "cell_type": "code",
      "metadata": {
        "id": "hrFaaMqyELJa"
      },
      "source": [
        "\"\"\"\n",
        "Ejercicio 2:\n",
        "Crear un programa que le pida al usuario capturar dos números enteros y dos números\n",
        "flotantes. Después, realizará la suma, resta, multiplicación y división, de ambos\n",
        "pares de números. Como resultado se deberán de obtener 8 valores. Imprimir todos estos\n",
        "reultados.\n",
        "\"\"\"\n",
        "#CODIGO:\n",
        "i1=int(input(\"Ingresa un numero entero:\"))\n",
        "i2=int(input(\"Ingresa un segundo numero entero\"))\n",
        "f1=float(input(\"Ingresa un numero flotante:\"))\n",
        "f2=float(input(\"Ingresa un segundo numero flotante\"))\n",
        "x1=str(i1+i2)\n",
        "x2=str(i1-i2)\n",
        "x3=str(i1*i2)\n",
        "x4=str(i1/i2)\n",
        "y1=str(f1+f2)\n",
        "y2=str(f1-f2)\n",
        "y3=str(f1*f2)\n",
        "y4=str(f1/f2)\n",
        "print(\"La suma de ambos numeros enteros es de \"+x1+\", la resta da \"+x2+\", a multiplicación es \"+x3+\" y la division \"+x4)\n",
        "print(\"La suma de ambos numeros flotantes es de \"+y1+\", la resta da \"+y2+\", a multiplicación es \"+y3+\" y la division \"+y4)"
      ],
      "execution_count": null,
      "outputs": []
    },
    {
      "cell_type": "code",
      "metadata": {
        "id": "n5qCWmWQEX6K"
      },
      "source": [
        "\"\"\"\n",
        "Ejercicio 3:\n",
        "Crear un programa que evalúe dos expresiones lógicas con `and`, dos con `or` y dos con\n",
        "`not`. Cada expresión deberá hacer uso de operadores de comparación. \n",
        "\"\"\"\n",
        "a= int(input(\"Introduzca un numero a: \"))\n",
        "b= int(input(\"Introduzca un numero b: \"))\n",
        "print(\"a<b and a>1\")\n",
        "print(a<b and a>1)\n",
        "print(\"a>1 and b>2\")\n",
        "print(a>1 and b>2)\n",
        "print(\"a<b or a>3\")\n",
        "print(a<b or a>3)\n",
        "print(\"a>3 or b>4\")\n",
        "print(a>3 or b>4)\n",
        "print(\"not (x<y)\")\n",
        "print(not (x<y))\n",
        "print(\"not (x>3)\")\n",
        "print(not (x>3))"
      ],
      "execution_count": null,
      "outputs": []
    }
  ]
}